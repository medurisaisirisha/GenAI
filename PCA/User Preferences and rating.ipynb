{
 "cells": [
  {
   "cell_type": "code",
   "execution_count": 1,
   "id": "a60a3968",
   "metadata": {},
   "outputs": [],
   "source": [
    "import numpy as np\n",
    "from sklearn.decomposition import PCA"
   ]
  },
  {
   "cell_type": "code",
   "execution_count": 2,
   "id": "d018306f",
   "metadata": {},
   "outputs": [],
   "source": [
    "# Define 5 users as a linear combination of latent users\n",
    "users = np.array([\n",
    "    [0.7, 0.2, 0.1],  # User 1: 70% Action, 20% Comedy, 10% Romance\n",
    "    [0.0, 0.5, 0.5],  # User 2: 50% Comedy, 50% Romance\n",
    "    [0.3, 0.4, 0.3],  # User 3: 30% Action, 40% Comedy, 30% Romance\n",
    "    [0.0, 0.0, 1.0],  # User 4: 100% Romance\n",
    "    [0.4, 0.0, 0.6]   # User 5: 40% Action, 60% Romance\n",
    "])"
   ]
  },
  {
   "cell_type": "code",
   "execution_count": 3,
   "id": "70823835",
   "metadata": {},
   "outputs": [],
   "source": [
    "# Define 5 movies as a linear combination of latent movie types\n",
    "movies = np.array([\n",
    "    [0.8, 0.2, 0.0],  # Movie 1: 80% Action, 20% Comedy\n",
    "    [0.0, 0.6, 0.4],  # Movie 2: 60% Comedy, 40% Romance\n",
    "    [0.5, 0.0, 0.5],  # Movie 3: 50% Action, 50% Romance\n",
    "    [0.3, 0.0, 0.7],  # Movie 4: 30% Action, 70% Romance\n",
    "    [0.0, 1.0, 0.0]   # Movie 5: 100% Comedy\n",
    "])"
   ]
  },
  {
   "cell_type": "code",
   "execution_count": 7,
   "id": "db71accb",
   "metadata": {},
   "outputs": [],
   "source": [
    "# Generate the 5x5 user/movie rating matrix\n",
    "rating_matrix = np.dot(users, movies.T)"
   ]
  },
  {
   "cell_type": "code",
   "execution_count": 8,
   "id": "c97c304c",
   "metadata": {},
   "outputs": [
    {
     "data": {
      "text/plain": [
       "array([[0.6 , 0.16, 0.4 , 0.28, 0.2 ],\n",
       "       [0.1 , 0.5 , 0.25, 0.35, 0.5 ],\n",
       "       [0.32, 0.36, 0.3 , 0.3 , 0.4 ],\n",
       "       [0.  , 0.4 , 0.5 , 0.7 , 0.  ],\n",
       "       [0.32, 0.24, 0.5 , 0.54, 0.  ]])"
      ]
     },
     "execution_count": 8,
     "metadata": {},
     "output_type": "execute_result"
    }
   ],
   "source": [
    "rating_matrix"
   ]
  },
  {
   "cell_type": "code",
   "execution_count": 37,
   "id": "b04110f7",
   "metadata": {},
   "outputs": [],
   "source": [
    "# Apply PCA to Users\n",
    "pca_users = PCA(n_components=2)  # Assuming 3 latent user types\n",
    "users_pca = pca_users.fit_transform(rating_matrix)"
   ]
  },
  {
   "cell_type": "code",
   "execution_count": 38,
   "id": "f0991824",
   "metadata": {},
   "outputs": [
    {
     "data": {
      "text/plain": [
       "array([[-0.2204573 , -0.33973898],\n",
       "       [-0.18922173,  0.35454074],\n",
       "       [-0.23862911,  0.07071173],\n",
       "       [ 0.44114064,  0.11445058],\n",
       "       [ 0.2071675 , -0.19996406]])"
      ]
     },
     "execution_count": 38,
     "metadata": {},
     "output_type": "execute_result"
    }
   ],
   "source": [
    "users_pca"
   ]
  },
  {
   "cell_type": "code",
   "execution_count": 39,
   "id": "33455abc",
   "metadata": {},
   "outputs": [
    {
     "data": {
      "text/html": [
       "<style>#sk-container-id-3 {color: black;}#sk-container-id-3 pre{padding: 0;}#sk-container-id-3 div.sk-toggleable {background-color: white;}#sk-container-id-3 label.sk-toggleable__label {cursor: pointer;display: block;width: 100%;margin-bottom: 0;padding: 0.3em;box-sizing: border-box;text-align: center;}#sk-container-id-3 label.sk-toggleable__label-arrow:before {content: \"▸\";float: left;margin-right: 0.25em;color: #696969;}#sk-container-id-3 label.sk-toggleable__label-arrow:hover:before {color: black;}#sk-container-id-3 div.sk-estimator:hover label.sk-toggleable__label-arrow:before {color: black;}#sk-container-id-3 div.sk-toggleable__content {max-height: 0;max-width: 0;overflow: hidden;text-align: left;background-color: #f0f8ff;}#sk-container-id-3 div.sk-toggleable__content pre {margin: 0.2em;color: black;border-radius: 0.25em;background-color: #f0f8ff;}#sk-container-id-3 input.sk-toggleable__control:checked~div.sk-toggleable__content {max-height: 200px;max-width: 100%;overflow: auto;}#sk-container-id-3 input.sk-toggleable__control:checked~label.sk-toggleable__label-arrow:before {content: \"▾\";}#sk-container-id-3 div.sk-estimator input.sk-toggleable__control:checked~label.sk-toggleable__label {background-color: #d4ebff;}#sk-container-id-3 div.sk-label input.sk-toggleable__control:checked~label.sk-toggleable__label {background-color: #d4ebff;}#sk-container-id-3 input.sk-hidden--visually {border: 0;clip: rect(1px 1px 1px 1px);clip: rect(1px, 1px, 1px, 1px);height: 1px;margin: -1px;overflow: hidden;padding: 0;position: absolute;width: 1px;}#sk-container-id-3 div.sk-estimator {font-family: monospace;background-color: #f0f8ff;border: 1px dotted black;border-radius: 0.25em;box-sizing: border-box;margin-bottom: 0.5em;}#sk-container-id-3 div.sk-estimator:hover {background-color: #d4ebff;}#sk-container-id-3 div.sk-parallel-item::after {content: \"\";width: 100%;border-bottom: 1px solid gray;flex-grow: 1;}#sk-container-id-3 div.sk-label:hover label.sk-toggleable__label {background-color: #d4ebff;}#sk-container-id-3 div.sk-serial::before {content: \"\";position: absolute;border-left: 1px solid gray;box-sizing: border-box;top: 0;bottom: 0;left: 50%;z-index: 0;}#sk-container-id-3 div.sk-serial {display: flex;flex-direction: column;align-items: center;background-color: white;padding-right: 0.2em;padding-left: 0.2em;position: relative;}#sk-container-id-3 div.sk-item {position: relative;z-index: 1;}#sk-container-id-3 div.sk-parallel {display: flex;align-items: stretch;justify-content: center;background-color: white;position: relative;}#sk-container-id-3 div.sk-item::before, #sk-container-id-3 div.sk-parallel-item::before {content: \"\";position: absolute;border-left: 1px solid gray;box-sizing: border-box;top: 0;bottom: 0;left: 50%;z-index: -1;}#sk-container-id-3 div.sk-parallel-item {display: flex;flex-direction: column;z-index: 1;position: relative;background-color: white;}#sk-container-id-3 div.sk-parallel-item:first-child::after {align-self: flex-end;width: 50%;}#sk-container-id-3 div.sk-parallel-item:last-child::after {align-self: flex-start;width: 50%;}#sk-container-id-3 div.sk-parallel-item:only-child::after {width: 0;}#sk-container-id-3 div.sk-dashed-wrapped {border: 1px dashed gray;margin: 0 0.4em 0.5em 0.4em;box-sizing: border-box;padding-bottom: 0.4em;background-color: white;}#sk-container-id-3 div.sk-label label {font-family: monospace;font-weight: bold;display: inline-block;line-height: 1.2em;}#sk-container-id-3 div.sk-label-container {text-align: center;}#sk-container-id-3 div.sk-container {/* jupyter's `normalize.less` sets `[hidden] { display: none; }` but bootstrap.min.css set `[hidden] { display: none !important; }` so we also need the `!important` here to be able to override the default hidden behavior on the sphinx rendered scikit-learn.org. See: https://github.com/scikit-learn/scikit-learn/issues/21755 */display: inline-block !important;position: relative;}#sk-container-id-3 div.sk-text-repr-fallback {display: none;}</style><div id=\"sk-container-id-3\" class=\"sk-top-container\"><div class=\"sk-text-repr-fallback\"><pre>PCA(n_components=2)</pre><b>In a Jupyter environment, please rerun this cell to show the HTML representation or trust the notebook. <br />On GitHub, the HTML representation is unable to render, please try loading this page with nbviewer.org.</b></div><div class=\"sk-container\" hidden><div class=\"sk-item\"><div class=\"sk-estimator sk-toggleable\"><input class=\"sk-toggleable__control sk-hidden--visually\" id=\"sk-estimator-id-3\" type=\"checkbox\" checked><label for=\"sk-estimator-id-3\" class=\"sk-toggleable__label sk-toggleable__label-arrow\">PCA</label><div class=\"sk-toggleable__content\"><pre>PCA(n_components=2)</pre></div></div></div></div></div>"
      ],
      "text/plain": [
       "PCA(n_components=2)"
      ]
     },
     "execution_count": 39,
     "metadata": {},
     "output_type": "execute_result"
    }
   ],
   "source": [
    "# Apply PCA to Users\n",
    "pca_users = PCA(n_components=2)  # Extracting the first three principal components\n",
    "pca_users.fit(rating_matrix)"
   ]
  },
  {
   "cell_type": "code",
   "execution_count": 42,
   "id": "58e58919",
   "metadata": {},
   "outputs": [],
   "source": [
    "# Extracting PC1, PC2, and PC3 for Users\n",
    "pc1_users = pca_users.components_[0]\n",
    "pc2_users = pca_users.components_[1]"
   ]
  },
  {
   "cell_type": "code",
   "execution_count": 43,
   "id": "4fc2d567",
   "metadata": {},
   "outputs": [],
   "source": [
    "# Variance explained by each PCA for users\n",
    "users_variance_explained = pca_users.explained_variance_ratio_*100"
   ]
  },
  {
   "cell_type": "code",
   "execution_count": 44,
   "id": "1eb7d9b8",
   "metadata": {},
   "outputs": [
    {
     "data": {
      "text/plain": [
       "(array([-0.42564138,  0.02741269,  0.30901333,  0.58363668, -0.61802666]),\n",
       " array([-0.70102126,  0.48848286, -0.22995372,  0.07456616,  0.45990745]),\n",
       " array([55.87446522, 44.12553478]))"
      ]
     },
     "execution_count": 44,
     "metadata": {},
     "output_type": "execute_result"
    }
   ],
   "source": [
    "(pc1_users, pc2_users, users_variance_explained)"
   ]
  },
  {
   "cell_type": "code",
   "execution_count": 45,
   "id": "7d66bf9c",
   "metadata": {},
   "outputs": [],
   "source": [
    "# Apply PCA to Movies\n",
    "pca_movies = PCA(n_components=2)  # Assuming 3 latent movie types\n",
    "movies_pca = pca_movies.fit_transform(rating_matrix.T)"
   ]
  },
  {
   "cell_type": "code",
   "execution_count": 52,
   "id": "4bbe5378",
   "metadata": {},
   "outputs": [],
   "source": [
    "# Variance explained by each PCA for users\n",
    "movies_variance_explained = pca_movies.explained_variance_ratio_*100"
   ]
  },
  {
   "cell_type": "code",
   "execution_count": 53,
   "id": "46b01a65",
   "metadata": {},
   "outputs": [
    {
     "data": {
      "text/plain": [
       "array([[ 0.26866782,  0.40256379],\n",
       "       [-0.02281001, -0.25822413],\n",
       "       [-0.25092878,  0.12812004],\n",
       "       [-0.44102465, -0.04469073],\n",
       "       [ 0.44609562, -0.22776896]])"
      ]
     },
     "execution_count": 53,
     "metadata": {},
     "output_type": "execute_result"
    }
   ],
   "source": [
    "movies_pca"
   ]
  },
  {
   "cell_type": "code",
   "execution_count": 54,
   "id": "46e8d6c9",
   "metadata": {},
   "outputs": [],
   "source": [
    "rating_matrix_rounded = rating_matrix.round(2)\n",
    "users_pca_rounded = users_pca.round(2)\n",
    "movies_pca_rounded = movies_pca.round(2)"
   ]
  },
  {
   "cell_type": "code",
   "execution_count": 55,
   "id": "7ae78649",
   "metadata": {},
   "outputs": [
    {
     "data": {
      "text/plain": [
       "(array([[0.6 , 0.16, 0.4 , 0.28, 0.2 ],\n",
       "        [0.1 , 0.5 , 0.25, 0.35, 0.5 ],\n",
       "        [0.32, 0.36, 0.3 , 0.3 , 0.4 ],\n",
       "        [0.  , 0.4 , 0.5 , 0.7 , 0.  ],\n",
       "        [0.32, 0.24, 0.5 , 0.54, 0.  ]]),\n",
       " array([[-0.22, -0.34],\n",
       "        [-0.19,  0.35],\n",
       "        [-0.24,  0.07],\n",
       "        [ 0.44,  0.11],\n",
       "        [ 0.21, -0.2 ]]),\n",
       " array([[ 0.27,  0.4 ],\n",
       "        [-0.02, -0.26],\n",
       "        [-0.25,  0.13],\n",
       "        [-0.44, -0.04],\n",
       "        [ 0.45, -0.23]]),\n",
       " array([63.89422678, 36.10577322]),\n",
       " array([63.89422678, 36.10577322]))"
      ]
     },
     "execution_count": 55,
     "metadata": {},
     "output_type": "execute_result"
    }
   ],
   "source": [
    "(rating_matrix_rounded, users_pca_rounded, movies_pca_rounded, users_variance_explained,movies_variance_explained)"
   ]
  },
  {
   "cell_type": "code",
   "execution_count": null,
   "id": "cf49b3ed",
   "metadata": {},
   "outputs": [],
   "source": []
  }
 ],
 "metadata": {
  "kernelspec": {
   "display_name": "Python 3 (ipykernel)",
   "language": "python",
   "name": "python3"
  },
  "language_info": {
   "codemirror_mode": {
    "name": "ipython",
    "version": 3
   },
   "file_extension": ".py",
   "mimetype": "text/x-python",
   "name": "python",
   "nbconvert_exporter": "python",
   "pygments_lexer": "ipython3",
   "version": "3.11.5"
  }
 },
 "nbformat": 4,
 "nbformat_minor": 5
}
